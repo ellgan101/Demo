{
 "cells": [
  {
   "cell_type": "code",
   "execution_count": 1,
   "metadata": {},
   "outputs": [],
   "source": [
    "# Carry out the deep neural network on the CIFAR10 image dataset\n",
    "\n",
    "# Import libraries\n",
    "import pandas as pd\n",
    "import matplotlib.pyplot as plt\n",
    "\n",
    "# Machine learning libraries\n",
    "from sklearn.datasets import fetch_california_housing\n",
    "from sklearn.model_selection import train_test_split\n",
    "from sklearn.preprocessing import StandardScaler\n",
    "\n",
    "# Deep learning libraries\n",
    "import tensorflow as tf\n",
    "from tensorflow import keras\n",
    "\n",
    "# Import the CIFAR10 image dataset\n",
    "cifar_10 = keras.datasets.cifar10"
   ]
  },
  {
   "cell_type": "code",
   "execution_count": 29,
   "metadata": {
    "scrolled": true
   },
   "outputs": [],
   "source": [
    "# Part a: Build the DNN\n",
    "model = tf.keras.Sequential()\n",
    "# An input layer\n",
    "model.add(tf.keras.layers.Flatten(input_shape = [32, 32,3]))\n",
    "# Hidden layers\n",
    "for i in range(1,20 + 1):\n",
    "    model.add(tf.keras.layers.Dense(100, kernel_initializer = 'he_normal', activation='elu'))\n",
    "# An output layer\n",
    "model.add(tf.keras.layers.Dense(10, activation='softmax'))\n",
    "\n",
    "# Part b: \n",
    "# load the data\n",
    "(X_train_full, y_train_full), (X_test, y_test) = cifar_10.load_data()\n",
    "X_valid, X_train = X_train_full[:5000] / 255.0, X_train_full[5000:] / 255.0\n",
    "y_valid, y_train = y_train_full[:5000], y_train_full[5000:]\n",
    "\n",
    "# Compile the model\n",
    "optimizer_Nadam = tf.keras.optimizers.Nadam(learning_rate=1e-2, beta_1=0.9, beta_2=0.999, epsilon=1e-10, name='Nadam')\n",
    "model.compile(loss = 'sparse_categorical_crossentropy', optimizer = optimizer_Nadam, metrics = ['accuracy'])\n",
    "\n",
    "\n"
   ]
  },
  {
   "cell_type": "code",
   "execution_count": 27,
   "metadata": {
    "scrolled": true
   },
   "outputs": [
    {
     "name": "stdout",
     "output_type": "stream",
     "text": [
      "Epoch 1/40\n",
      "1407/1407 [==============================] - 6s 4ms/step - loss: 1.7033 - accuracy: 0.3864 - val_loss: 1.7048 - val_accuracy: 0.3830\n",
      "Epoch 2/40\n",
      "1407/1407 [==============================] - 6s 4ms/step - loss: 1.6092 - accuracy: 0.4209 - val_loss: 1.6963 - val_accuracy: 0.3888\n",
      "Epoch 3/40\n",
      "1407/1407 [==============================] - 6s 4ms/step - loss: 1.5496 - accuracy: 0.4409 - val_loss: 1.5917 - val_accuracy: 0.4210\n",
      "Epoch 4/40\n",
      "1407/1407 [==============================] - 6s 4ms/step - loss: 1.4973 - accuracy: 0.4596 - val_loss: 1.5208 - val_accuracy: 0.4512\n",
      "Epoch 5/40\n",
      "1407/1407 [==============================] - 7s 5ms/step - loss: 1.4662 - accuracy: 0.4720 - val_loss: 1.5805 - val_accuracy: 0.4350\n",
      "Epoch 6/40\n",
      "1407/1407 [==============================] - 7s 5ms/step - loss: 1.4302 - accuracy: 0.4849 - val_loss: 1.5387 - val_accuracy: 0.4442\n",
      "Epoch 7/40\n",
      "1407/1407 [==============================] - 7s 5ms/step - loss: 1.4009 - accuracy: 0.4977 - val_loss: 1.5153 - val_accuracy: 0.4664\n",
      "Epoch 8/40\n",
      "1407/1407 [==============================] - 7s 5ms/step - loss: 1.3724 - accuracy: 0.5063 - val_loss: 1.5190 - val_accuracy: 0.4672\n",
      "Epoch 9/40\n",
      "1407/1407 [==============================] - 7s 5ms/step - loss: 1.3507 - accuracy: 0.5165 - val_loss: 1.4820 - val_accuracy: 0.4700\n",
      "Epoch 10/40\n",
      "1407/1407 [==============================] - 7s 5ms/step - loss: 1.3259 - accuracy: 0.5213 - val_loss: 1.4495 - val_accuracy: 0.4856\n",
      "Epoch 11/40\n",
      "1407/1407 [==============================] - 7s 5ms/step - loss: 1.3029 - accuracy: 0.5286 - val_loss: 1.4441 - val_accuracy: 0.4914\n",
      "Epoch 12/40\n",
      "1407/1407 [==============================] - 7s 5ms/step - loss: 1.2835 - accuracy: 0.5389 - val_loss: 1.4841 - val_accuracy: 0.4746\n",
      "Epoch 13/40\n",
      "1407/1407 [==============================] - 7s 5ms/step - loss: 1.2603 - accuracy: 0.5462 - val_loss: 1.4574 - val_accuracy: 0.4896\n",
      "Epoch 14/40\n",
      "1407/1407 [==============================] - 7s 5ms/step - loss: 1.2411 - accuracy: 0.5530 - val_loss: 1.4544 - val_accuracy: 0.4858\n",
      "Epoch 15/40\n",
      "1407/1407 [==============================] - 7s 5ms/step - loss: 1.2226 - accuracy: 0.5619 - val_loss: 1.4543 - val_accuracy: 0.4932\n",
      "Epoch 16/40\n",
      "1407/1407 [==============================] - 8s 6ms/step - loss: 1.2016 - accuracy: 0.5666 - val_loss: 1.4604 - val_accuracy: 0.4842\n"
     ]
    }
   ],
   "source": [
    "es = tf.keras.callbacks.EarlyStopping(monitor='val_loss', mode='min',patience=5)\n",
    "history = model.fit(X_train, y_train, epochs=40, validation_data=(X_valid, y_valid), callbacks=[es])\n",
    "\n",
    "\n"
   ]
  },
  {
   "cell_type": "code",
   "execution_count": 32,
   "metadata": {
    "scrolled": false
   },
   "outputs": [
    {
     "name": "stdout",
     "output_type": "stream",
     "text": [
      "Epoch 1/5\n",
      "1407/1407 [==============================] - 20s 10ms/step - loss: 2.0367 - accuracy: 0.2336 - val_loss: 2.2642 - val_accuracy: 0.2672\n",
      "Epoch 2/5\n",
      "1407/1407 [==============================] - 14s 10ms/step - loss: 1.9177 - accuracy: 0.2803 - val_loss: 2.4108 - val_accuracy: 0.1894\n",
      "Epoch 3/5\n",
      "1407/1407 [==============================] - 18s 13ms/step - loss: 1.8869 - accuracy: 0.2905 - val_loss: 2.4327 - val_accuracy: 0.2004\n",
      "Epoch 4/5\n",
      "1407/1407 [==============================] - 21s 15ms/step - loss: 1.8714 - accuracy: 0.3014 - val_loss: 2.1766 - val_accuracy: 0.2686\n",
      "Epoch 5/5\n",
      "1407/1407 [==============================] - 23s 16ms/step - loss: 1.8097 - accuracy: 0.3292 - val_loss: 2.7523 - val_accuracy: 0.2202\n"
     ]
    },
    {
     "data": {
      "image/png": "[encoded data removed]",
      "text/plain": [
       "<Figure size 576x576 with 1 Axes>"
      ]
     },
     "metadata": {
      "needs_background": "light"
     },
     "output_type": "display_data"
    }
   ],
   "source": [
    "# Part c: Try batch normalization\n",
    "model2 = tf.keras.Sequential()\n",
    "# An input layer\n",
    "model2.add(tf.keras.layers.Flatten(input_shape = [32, 32, 3]))\n",
    "# Hidden layers\n",
    "for i in range(1,20 + 1):\n",
    "    model2.add(tf.keras.layers.Dense(100, kernel_initializer = 'he_normal', activation='elu'))\n",
    "    model2.add(tf.keras.layers.BatchNormalization())\n",
    "# An output layer\n",
    "model2.add(tf.keras.layers.Dense(10, activation='softmax'))\n",
    "\n",
    "# Compile the model\n",
    "model2.compile(loss = 'sparse_categorical_crossentropy', optimizer = optimizer_Nadam, metrics = ['accuracy'])\n",
    "history2 = model2.fit(X_train, y_train, epochs=5, validation_data=(X_valid, y_valid), callbacks=[es])\n",
    "\n",
    "# Plot the graph\n",
    "pd.DataFrame(history2.history).plot(figsize=(8,8))\n",
    "plt.grid(True)\n",
    "plt.gca().set_ylim(0, 1)\n",
    "plt.show()"
   ]
  },
  {
   "cell_type": "code",
   "execution_count": null,
   "metadata": {},
   "outputs": [],
   "source": []
  }
 ],
 "metadata": {
  "kernelspec": {
   "display_name": "Python 3",
   "language": "python",
   "name": "python3"
  },
  "language_info": {
   "codemirror_mode": {
    "name": "ipython",
    "version": 3
   },
   "file_extension": ".py",
   "mimetype": "text/x-python",
   "name": "python",
   "nbconvert_exporter": "python",
   "pygments_lexer": "ipython3",
   "version": "3.8.3"
  }
 },
 "nbformat": 4,
 "nbformat_minor": 4
}
