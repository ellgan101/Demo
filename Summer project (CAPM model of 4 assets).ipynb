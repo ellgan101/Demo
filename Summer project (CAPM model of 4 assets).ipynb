{
 "cells": [
  {
   "cell_type": "code",
   "execution_count": 39,
   "metadata": {},
   "outputs": [],
   "source": [
    "'''\n",
    "This is the code of the portfolio analysis (CAPM model). \n",
    "We use investing.com as the data source. \n",
    "We consider the data from 01/01/2017 to 31/08/2018. \n",
    "'''\n",
    "\n",
    "# Import packages\n",
    "import os\n",
    "import datetime as dt\n",
    "import numpy as np\n",
    "import pandas as pd\n",
    "import matplotlib.pyplot as plt\n",
    "# import pandas_datareader as pdr\n",
    "import investpy\n",
    "\n",
    "\n",
    "# Set the date bounds\n",
    "# dt.datetime(2019,1,1)\n",
    "start = '21/12/2016'\n",
    "# dt.datetime.now().strftime('%d/%m/%Y')\n",
    "end = '05/09/2018'\n",
    "\n"
   ]
  },
  {
   "cell_type": "code",
   "execution_count": 40,
   "metadata": {
    "scrolled": false
   },
   "outputs": [],
   "source": [
    "# Assets\n",
    "USDJPY = investpy.get_currency_cross_historical_data(currency_cross = 'USD/JPY', from_date = start, to_date = end)\n",
    "USDEUR = investpy.get_currency_cross_historical_data(currency_cross = 'USD/EUR', from_date = start, to_date = end)\n",
    "BTCUSD = investpy.get_crypto_historical_data(crypto='Bitcoin', from_date = start, to_date = end)\n",
    "XAUJPY = investpy.get_commodity_historical_data(commodity = 'Gold', from_date = start, to_date = end)\n",
    "Topix_500 = investpy.indices.get_index_historical_data(index='Topix 500', country='Japan', from_date = start, to_date = end)\n",
    "\n",
    "\n",
    "# Form a dataframe for consideration"
   ]
  },
  {
   "cell_type": "code",
   "execution_count": 74,
   "metadata": {
    "scrolled": true
   },
   "outputs": [],
   "source": [
    "# Extract the needed data (We take the close prices)\n",
    "df = pd.concat([USDJPY['Close'], BTCUSD['Close'], USDEUR['Close'], XAUJPY['Close'], Topix_500['Close']], axis=1)\n"
   ]
  },
  {
   "cell_type": "code",
   "execution_count": 75,
   "metadata": {
    "scrolled": false
   },
   "outputs": [],
   "source": [
    "# Rename the columns\n",
    "df.columns = ['USDJPY', 'BTCUSD', 'USDEUR', 'XAUJPY', 'Topix_500']\n",
    "# Reset the index\n",
    "df = df.reset_index()\n",
    "# Change the date into datetime format\n",
    "# df['Date'] = pd.to_datetime(df['Date'])\n",
    "# Print some data for checking\n",
    "# df.head()\n"
   ]
  },
  {
   "cell_type": "code",
   "execution_count": 115,
   "metadata": {
    "scrolled": true
   },
   "outputs": [],
   "source": [
    "# Fill all the Nan(s) by (linear) interpolation vertically\n",
    "df = df.interpolate(method='linear', axis=0)\n",
    "# Print some data for checking\n",
    "# df.head()\n"
   ]
  },
  {
   "cell_type": "code",
   "execution_count": 79,
   "metadata": {
    "scrolled": true
   },
   "outputs": [],
   "source": [
    "# Create a column for USDJPY\n",
    "df['BTCJPY'] = df['USDJPY'] * df['BTCUSD']\n",
    "# Print some data for checking\n",
    "# df.head()\n"
   ]
  },
  {
   "cell_type": "code",
   "execution_count": 116,
   "metadata": {
    "scrolled": false
   },
   "outputs": [],
   "source": [
    "# Select the rows within the date range (considering year 2017)\n",
    "# Set up the conditions\n",
    "condition_2017 = (df['Date'] >= '2016/12/31') & (df['Date'] <= '2017/12/31')\n",
    "# Select the data in 2017\n",
    "df_2017 = df.loc[condition_2017]\n"
   ]
  },
  {
   "cell_type": "code",
   "execution_count": 123,
   "metadata": {
    "scrolled": true
   },
   "outputs": [
    {
     "data": {
      "text/html": [
       "<div>\n",
       "<style scoped>\n",
       "    .dataframe tbody tr th:only-of-type {\n",
       "        vertical-align: middle;\n",
       "    }\n",
       "\n",
       "    .dataframe tbody tr th {\n",
       "        vertical-align: top;\n",
       "    }\n",
       "\n",
       "    .dataframe thead th {\n",
       "        text-align: right;\n",
       "    }\n",
       "</style>\n",
       "<table border=\"1\" class=\"dataframe\">\n",
       "  <thead>\n",
       "    <tr style=\"text-align: right;\">\n",
       "      <th></th>\n",
       "      <th>USDEUR</th>\n",
       "      <th>BTCJPY</th>\n",
       "      <th>XAUJPY</th>\n",
       "      <th>Topix_500</th>\n",
       "    </tr>\n",
       "  </thead>\n",
       "  <tbody>\n",
       "    <tr>\n",
       "      <th>count</th>\n",
       "      <td>365.000000</td>\n",
       "      <td>365.000000</td>\n",
       "      <td>365.000000</td>\n",
       "      <td>365.000000</td>\n",
       "    </tr>\n",
       "    <tr>\n",
       "      <th>mean</th>\n",
       "      <td>-0.000361</td>\n",
       "      <td>0.008441</td>\n",
       "      <td>0.000365</td>\n",
       "      <td>0.000489</td>\n",
       "    </tr>\n",
       "    <tr>\n",
       "      <th>std</th>\n",
       "      <td>0.003630</td>\n",
       "      <td>0.049795</td>\n",
       "      <td>0.013152</td>\n",
       "      <td>0.005072</td>\n",
       "    </tr>\n",
       "    <tr>\n",
       "      <th>min</th>\n",
       "      <td>-0.013754</td>\n",
       "      <td>-0.163951</td>\n",
       "      <td>-0.061566</td>\n",
       "      <td>-0.021525</td>\n",
       "    </tr>\n",
       "    <tr>\n",
       "      <th>25%</th>\n",
       "      <td>-0.001930</td>\n",
       "      <td>-0.011246</td>\n",
       "      <td>-0.002718</td>\n",
       "      <td>-0.001910</td>\n",
       "    </tr>\n",
       "    <tr>\n",
       "      <th>50%</th>\n",
       "      <td>-0.000118</td>\n",
       "      <td>0.006850</td>\n",
       "      <td>0.000441</td>\n",
       "      <td>0.000463</td>\n",
       "    </tr>\n",
       "    <tr>\n",
       "      <th>75%</th>\n",
       "      <td>0.001570</td>\n",
       "      <td>0.034259</td>\n",
       "      <td>0.002568</td>\n",
       "      <td>0.002954</td>\n",
       "    </tr>\n",
       "    <tr>\n",
       "      <th>max</th>\n",
       "      <td>0.013820</td>\n",
       "      <td>0.254913</td>\n",
       "      <td>0.081360</td>\n",
       "      <td>0.022462</td>\n",
       "    </tr>\n",
       "  </tbody>\n",
       "</table>\n",
       "</div>"
      ],
      "text/plain": [
       "           USDEUR      BTCJPY      XAUJPY   Topix_500\n",
       "count  365.000000  365.000000  365.000000  365.000000\n",
       "mean    -0.000361    0.008441    0.000365    0.000489\n",
       "std      0.003630    0.049795    0.013152    0.005072\n",
       "min     -0.013754   -0.163951   -0.061566   -0.021525\n",
       "25%     -0.001930   -0.011246   -0.002718   -0.001910\n",
       "50%     -0.000118    0.006850    0.000441    0.000463\n",
       "75%      0.001570    0.034259    0.002568    0.002954\n",
       "max      0.013820    0.254913    0.081360    0.022462"
      ]
     },
     "execution_count": 123,
     "metadata": {},
     "output_type": "execute_result"
    }
   ],
   "source": [
    "# Find the basic statistics of the rate of return\n",
    "# We use the simple percentage change. \n",
    "df_2017[['USDEUR','BTCJPY','XAUJPY','Topix_500']].pct_change().dropna().describe()\n"
   ]
  },
  {
   "cell_type": "code",
   "execution_count": 107,
   "metadata": {
    "scrolled": true
   },
   "outputs": [
    {
     "data": {
      "text/html": [
       "<div>\n",
       "<style scoped>\n",
       "    .dataframe tbody tr th:only-of-type {\n",
       "        vertical-align: middle;\n",
       "    }\n",
       "\n",
       "    .dataframe tbody tr th {\n",
       "        vertical-align: top;\n",
       "    }\n",
       "\n",
       "    .dataframe thead th {\n",
       "        text-align: right;\n",
       "    }\n",
       "</style>\n",
       "<table border=\"1\" class=\"dataframe\">\n",
       "  <thead>\n",
       "    <tr style=\"text-align: right;\">\n",
       "      <th></th>\n",
       "      <th>USDEUR</th>\n",
       "      <th>BTCJPY</th>\n",
       "      <th>XAUJPY</th>\n",
       "      <th>Topix_500</th>\n",
       "    </tr>\n",
       "  </thead>\n",
       "  <tbody>\n",
       "    <tr>\n",
       "      <th>USDEUR</th>\n",
       "      <td>1.000000</td>\n",
       "      <td>-0.642513</td>\n",
       "      <td>-0.649333</td>\n",
       "      <td>-0.749253</td>\n",
       "    </tr>\n",
       "    <tr>\n",
       "      <th>BTCJPY</th>\n",
       "      <td>-0.642513</td>\n",
       "      <td>1.000000</td>\n",
       "      <td>0.356817</td>\n",
       "      <td>0.871262</td>\n",
       "    </tr>\n",
       "    <tr>\n",
       "      <th>XAUJPY</th>\n",
       "      <td>-0.649333</td>\n",
       "      <td>0.356817</td>\n",
       "      <td>1.000000</td>\n",
       "      <td>0.377940</td>\n",
       "    </tr>\n",
       "    <tr>\n",
       "      <th>Topix_500</th>\n",
       "      <td>-0.749253</td>\n",
       "      <td>0.871262</td>\n",
       "      <td>0.377940</td>\n",
       "      <td>1.000000</td>\n",
       "    </tr>\n",
       "  </tbody>\n",
       "</table>\n",
       "</div>"
      ],
      "text/plain": [
       "             USDEUR    BTCJPY    XAUJPY  Topix_500\n",
       "USDEUR     1.000000 -0.642513 -0.649333  -0.749253\n",
       "BTCJPY    -0.642513  1.000000  0.356817   0.871262\n",
       "XAUJPY    -0.649333  0.356817  1.000000   0.377940\n",
       "Topix_500 -0.749253  0.871262  0.377940   1.000000"
      ]
     },
     "execution_count": 107,
     "metadata": {},
     "output_type": "execute_result"
    }
   ],
   "source": [
    "# Find the correlation of the rate of return\n",
    "df_2017[['USDEUR','BTCJPY','XAUJPY','Topix_500']].corr()\n"
   ]
  },
  {
   "cell_type": "code",
   "execution_count": 124,
   "metadata": {},
   "outputs": [],
   "source": [
    "# Select the rows within the date range (considering year 2018 (Up to the end of August))\n",
    "# Set up the conditions\n",
    "condition_2018 = (df['Date'] >= '2017/12/31') & (df['Date'] <= '2018/09/01')\n",
    "# Select the data in 2017\n",
    "df_2018 = df.loc[condition_2018]\n"
   ]
  },
  {
   "cell_type": "code",
   "execution_count": 122,
   "metadata": {
    "scrolled": false
   },
   "outputs": [
    {
     "data": {
      "text/html": [
       "<div>\n",
       "<style scoped>\n",
       "    .dataframe tbody tr th:only-of-type {\n",
       "        vertical-align: middle;\n",
       "    }\n",
       "\n",
       "    .dataframe tbody tr th {\n",
       "        vertical-align: top;\n",
       "    }\n",
       "\n",
       "    .dataframe thead th {\n",
       "        text-align: right;\n",
       "    }\n",
       "</style>\n",
       "<table border=\"1\" class=\"dataframe\">\n",
       "  <thead>\n",
       "    <tr style=\"text-align: right;\">\n",
       "      <th></th>\n",
       "      <th>USDEUR</th>\n",
       "      <th>BTCJPY</th>\n",
       "      <th>XAUJPY</th>\n",
       "      <th>Topix_500</th>\n",
       "    </tr>\n",
       "  </thead>\n",
       "  <tbody>\n",
       "    <tr>\n",
       "      <th>count</th>\n",
       "      <td>244.000000</td>\n",
       "      <td>244.000000</td>\n",
       "      <td>244.000000</td>\n",
       "      <td>244.000000</td>\n",
       "    </tr>\n",
       "    <tr>\n",
       "      <th>mean</th>\n",
       "      <td>0.000144</td>\n",
       "      <td>-0.001669</td>\n",
       "      <td>-0.000219</td>\n",
       "      <td>-0.000206</td>\n",
       "    </tr>\n",
       "    <tr>\n",
       "      <th>std</th>\n",
       "      <td>0.003751</td>\n",
       "      <td>0.046154</td>\n",
       "      <td>0.013053</td>\n",
       "      <td>0.006914</td>\n",
       "    </tr>\n",
       "    <tr>\n",
       "      <th>min</th>\n",
       "      <td>-0.012634</td>\n",
       "      <td>-0.171181</td>\n",
       "      <td>-0.062658</td>\n",
       "      <td>-0.042239</td>\n",
       "    </tr>\n",
       "    <tr>\n",
       "      <th>25%</th>\n",
       "      <td>-0.001536</td>\n",
       "      <td>-0.027355</td>\n",
       "      <td>-0.002868</td>\n",
       "      <td>-0.002865</td>\n",
       "    </tr>\n",
       "    <tr>\n",
       "      <th>50%</th>\n",
       "      <td>-0.000335</td>\n",
       "      <td>0.000337</td>\n",
       "      <td>-0.000213</td>\n",
       "      <td>0.000099</td>\n",
       "    </tr>\n",
       "    <tr>\n",
       "      <th>75%</th>\n",
       "      <td>0.001762</td>\n",
       "      <td>0.022740</td>\n",
       "      <td>0.001743</td>\n",
       "      <td>0.003645</td>\n",
       "    </tr>\n",
       "    <tr>\n",
       "      <th>max</th>\n",
       "      <td>0.019102</td>\n",
       "      <td>0.144186</td>\n",
       "      <td>0.074060</td>\n",
       "      <td>0.027394</td>\n",
       "    </tr>\n",
       "  </tbody>\n",
       "</table>\n",
       "</div>"
      ],
      "text/plain": [
       "           USDEUR      BTCJPY      XAUJPY   Topix_500\n",
       "count  244.000000  244.000000  244.000000  244.000000\n",
       "mean     0.000144   -0.001669   -0.000219   -0.000206\n",
       "std      0.003751    0.046154    0.013053    0.006914\n",
       "min     -0.012634   -0.171181   -0.062658   -0.042239\n",
       "25%     -0.001536   -0.027355   -0.002868   -0.002865\n",
       "50%     -0.000335    0.000337   -0.000213    0.000099\n",
       "75%      0.001762    0.022740    0.001743    0.003645\n",
       "max      0.019102    0.144186    0.074060    0.027394"
      ]
     },
     "execution_count": 122,
     "metadata": {},
     "output_type": "execute_result"
    }
   ],
   "source": [
    "# Find the basic statistics of the rate of return\n",
    "# We use the simple percentage change. \n",
    "df_2018[['USDEUR','BTCJPY','XAUJPY','Topix_500']].pct_change().dropna().describe()\n"
   ]
  },
  {
   "cell_type": "code",
   "execution_count": 179,
   "metadata": {
    "scrolled": false
   },
   "outputs": [
    {
     "data": {
      "text/html": [
       "<div>\n",
       "<style scoped>\n",
       "    .dataframe tbody tr th:only-of-type {\n",
       "        vertical-align: middle;\n",
       "    }\n",
       "\n",
       "    .dataframe tbody tr th {\n",
       "        vertical-align: top;\n",
       "    }\n",
       "\n",
       "    .dataframe thead th {\n",
       "        text-align: right;\n",
       "    }\n",
       "</style>\n",
       "<table border=\"1\" class=\"dataframe\">\n",
       "  <thead>\n",
       "    <tr style=\"text-align: right;\">\n",
       "      <th></th>\n",
       "      <th>USDEUR</th>\n",
       "      <th>BTCJPY</th>\n",
       "      <th>XAUJPY</th>\n",
       "      <th>Topix_500</th>\n",
       "    </tr>\n",
       "  </thead>\n",
       "  <tbody>\n",
       "    <tr>\n",
       "      <th>USDEUR</th>\n",
       "      <td>1.000000</td>\n",
       "      <td>-0.446276</td>\n",
       "      <td>-0.841807</td>\n",
       "      <td>-0.211573</td>\n",
       "    </tr>\n",
       "    <tr>\n",
       "      <th>BTCJPY</th>\n",
       "      <td>-0.446276</td>\n",
       "      <td>1.000000</td>\n",
       "      <td>0.367271</td>\n",
       "      <td>0.722248</td>\n",
       "    </tr>\n",
       "    <tr>\n",
       "      <th>XAUJPY</th>\n",
       "      <td>-0.841807</td>\n",
       "      <td>0.367271</td>\n",
       "      <td>1.000000</td>\n",
       "      <td>0.269460</td>\n",
       "    </tr>\n",
       "    <tr>\n",
       "      <th>Topix_500</th>\n",
       "      <td>-0.211573</td>\n",
       "      <td>0.722248</td>\n",
       "      <td>0.269460</td>\n",
       "      <td>1.000000</td>\n",
       "    </tr>\n",
       "  </tbody>\n",
       "</table>\n",
       "</div>"
      ],
      "text/plain": [
       "             USDEUR    BTCJPY    XAUJPY  Topix_500\n",
       "USDEUR     1.000000 -0.446276 -0.841807  -0.211573\n",
       "BTCJPY    -0.446276  1.000000  0.367271   0.722248\n",
       "XAUJPY    -0.841807  0.367271  1.000000   0.269460\n",
       "Topix_500 -0.211573  0.722248  0.269460   1.000000"
      ]
     },
     "execution_count": 179,
     "metadata": {},
     "output_type": "execute_result"
    }
   ],
   "source": [
    "# Find the correlation of the rate of return\n",
    "df_2018[['USDEUR','BTCJPY','XAUJPY','Topix_500']].corr()\n"
   ]
  },
  {
   "cell_type": "code",
   "execution_count": 151,
   "metadata": {},
   "outputs": [],
   "source": [
    "# Define the expected portfolio return and variance\n",
    "# data must be a pd.Dataframe\n",
    "def portfolio_return(data, weights):\n",
    "    return np.sum(data.mean() * weights)\n",
    "\n",
    "def portfolio_volatility(data, weights):\n",
    "    return np.sqrt(np.dot(weights.T, np.dot(data.cov(), weights)))"
   ]
  },
  {
   "cell_type": "code",
   "execution_count": 173,
   "metadata": {},
   "outputs": [],
   "source": [
    "# To find the CAPM model in 2017\n",
    "port_return = []\n",
    "port_volatility = []\n",
    "num_of_assets = 4\n",
    "data_considered = df_2017[['USDEUR','BTCJPY','XAUJPY','Topix_500']].pct_change().dropna()\n",
    "\n",
    "for i in range(data_considered.shape[0] * 20):\n",
    "    weights = np.random.random(num_of_assets)\n",
    "    # Normalization to proportion\n",
    "    weights /= np.sum(weights)\n",
    "    port_return.append(portfolio_return(data_considered, weights))\n",
    "    port_volatility.append(portfolio_volatility(data_considered, weights))\n",
    "\n",
    "port_return = np.array(port_return)\n",
    "port_volatility = np.array(port_volatility)\n"
   ]
  },
  {
   "cell_type": "code",
   "execution_count": 178,
   "metadata": {
    "scrolled": false
   },
   "outputs": [
    {
     "data": {
      "image/png": "[encoded data removed]",
      "text/plain": [
       "<Figure size 792x504 with 2 Axes>"
      ]
     },
     "metadata": {
      "needs_background": "light"
     },
     "output_type": "display_data"
    }
   ],
   "source": [
    "# Plot the result\n",
    "# Since the interest rate of national bond of Japan was nearly zero in 2017, \n",
    "# we take the risk free rate as zero for the calculation of the Sharpe ratio. \n",
    "plt.figure(figsize=(11,7))\n",
    "plt.scatter(port_volatility, port_return, c = port_return/ port_volatility,\n",
    "           marker='o', s=1.5, cmap = 'coolwarm')\n",
    "plt.xlabel(chr(963))                          # chr(963) is a Greek sigma symbol. \n",
    "plt.ylabel('r')\n",
    "plt.grid(True)\n",
    "plt.colorbar(label = 'Sharpe ratio')\n",
    "plt.title('CAPM model for the ' + str(num_of_assets) + ' assets in 2017')\n",
    "\n",
    "# Plot a linear line tangent to the portfolio frontier\n",
    "x = np.linspace(port_volatility.min()-0.005, port_volatility.max(), 100)\n",
    "slope = 0.193\n",
    "y = slope * x + 0.0\n",
    "plt.plot(x, y, '-g', label = 'r=' + str(slope) + chr(963))\n",
    "plt.xlabel(chr(963))                          # chr(963) is a Greek sigma symbol. \n",
    "plt.ylabel('r')\n",
    "plt.grid(True)\n",
    "plt.legend(loc='upper left')\n",
    "\n",
    "# Show the above plots in the same graph\n",
    "plt.show()"
   ]
  },
  {
   "cell_type": "code",
   "execution_count": null,
   "metadata": {},
   "outputs": [],
   "source": []
  },
  {
   "cell_type": "code",
   "execution_count": null,
   "metadata": {},
   "outputs": [],
   "source": []
  }
 ],
 "metadata": {
  "kernelspec": {
   "display_name": "Python 3",
   "language": "python",
   "name": "python3"
  },
  "language_info": {
   "codemirror_mode": {
    "name": "ipython",
    "version": 3
   },
   "file_extension": ".py",
   "mimetype": "text/x-python",
   "name": "python",
   "nbconvert_exporter": "python",
   "pygments_lexer": "ipython3",
   "version": "3.8.3"
  }
 },
 "nbformat": 4,
 "nbformat_minor": 4
}
